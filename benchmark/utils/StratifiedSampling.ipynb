{
 "cells": [
  {
   "cell_type": "code",
   "execution_count": 37,
   "metadata": {
    "collapsed": true
   },
   "outputs": [],
   "source": [
    "import numpy as np\n",
    "import pandas as pd\n",
    "import os"
   ]
  },
  {
   "cell_type": "code",
   "execution_count": 36,
   "metadata": {
    "collapsed": false
   },
   "outputs": [],
   "source": [
    "WDIR = './'\n",
    "files_list = os.listdir(WDIR)"
   ]
  },
  {
   "cell_type": "code",
   "execution_count": 40,
   "metadata": {
    "collapsed": false
   },
   "outputs": [],
   "source": [
    "def create_dataset(files_list):\n",
    "    all_data = pd.DataFrame(columns=['ID','LEN','SEQ','Type'])\n",
    "    files_list = [x for x in files_list if x.count('.csv') ==1]\n",
    "    for file in files_list:\n",
    "        print(file)\n",
    "        type_ = file.split('_')[0]\n",
    "        data = pd.read_csv(''.join(WDIR+file))\n",
    "        data = data.drop(columns=['DATE'])\n",
    "        data['Type'] = type_\n",
    "        all_data = pd.concat([all_data,data])    \n",
    "    return all_data"
   ]
  },
  {
   "cell_type": "code",
   "execution_count": 41,
   "metadata": {
    "collapsed": false
   },
   "outputs": [
    {
     "name": "stdout",
     "output_type": "stream",
     "text": [
      "bacteria_test.fna_150.csv\n",
      "archaea_train.fna_100.csv\n",
      "archaea_train.fna_500.csv\n",
      "archaea_train.fna_150.csv\n",
      "bacteria_test.fna_100.csv\n",
      "bacteria_test.fna_500.csv\n",
      "archaea_test.fna_100.csv\n",
      "archaea_test.fna_500.csv\n",
      "archaea_test.fna_150.csv\n",
      "bacteria_test.fna_300.csv\n",
      "archaea_test.fna_300.csv\n",
      "archaea_train.fna_300.csv\n",
      "viral_test.fna_100.csv\n"
     ]
    }
   ],
   "source": [
    "all_data = create_dataset(files_list)"
   ]
  },
  {
   "cell_type": "code",
   "execution_count": 42,
   "metadata": {
    "collapsed": false
   },
   "outputs": [
    {
     "data": {
      "text/html": [
       "<div>\n",
       "<style scoped>\n",
       "    .dataframe tbody tr th:only-of-type {\n",
       "        vertical-align: middle;\n",
       "    }\n",
       "\n",
       "    .dataframe tbody tr th {\n",
       "        vertical-align: top;\n",
       "    }\n",
       "\n",
       "    .dataframe thead th {\n",
       "        text-align: right;\n",
       "    }\n",
       "</style>\n",
       "<table border=\"1\" class=\"dataframe\">\n",
       "  <thead>\n",
       "    <tr style=\"text-align: right;\">\n",
       "      <th></th>\n",
       "      <th>ID</th>\n",
       "      <th>LEN</th>\n",
       "      <th>SEQ</th>\n",
       "      <th>Type</th>\n",
       "    </tr>\n",
       "  </thead>\n",
       "  <tbody>\n",
       "    <tr>\n",
       "      <th>0</th>\n",
       "      <td>NZ_AHCB02000005.1</td>\n",
       "      <td>173242</td>\n",
       "      <td>CGCGATAACAATCATCACCAGTTGAGCACCTATGGTATTGGTAAAG...</td>\n",
       "      <td>bacteria</td>\n",
       "    </tr>\n",
       "    <tr>\n",
       "      <th>1</th>\n",
       "      <td>NZ_AHCB02000005.1</td>\n",
       "      <td>173242</td>\n",
       "      <td>GGGCTCTGGTTCACCACTTAAAAACTGCTTATGCCAACCATTTAAA...</td>\n",
       "      <td>bacteria</td>\n",
       "    </tr>\n",
       "    <tr>\n",
       "      <th>2</th>\n",
       "      <td>NZ_AEYS01000118.1</td>\n",
       "      <td>1850</td>\n",
       "      <td>GCCCTTTTATTTTATCCCCTTTTCTAAAAAGGACGTCATCTTCAAT...</td>\n",
       "      <td>bacteria</td>\n",
       "    </tr>\n",
       "    <tr>\n",
       "      <th>3</th>\n",
       "      <td>NZ_AEYS01000118.1</td>\n",
       "      <td>1850</td>\n",
       "      <td>ATCTATTGCATCTTTAACCGATTTCAACATTTTTTGTTTTTATTAA...</td>\n",
       "      <td>bacteria</td>\n",
       "    </tr>\n",
       "    <tr>\n",
       "      <th>4</th>\n",
       "      <td>NZ_AEYS01000283.1</td>\n",
       "      <td>677</td>\n",
       "      <td>TCCCTATAGGAACGTGAATTATACCTGCTTTATCCACCCTGTACTC...</td>\n",
       "      <td>bacteria</td>\n",
       "    </tr>\n",
       "  </tbody>\n",
       "</table>\n",
       "</div>"
      ],
      "text/plain": [
       "                  ID     LEN  \\\n",
       "0  NZ_AHCB02000005.1  173242   \n",
       "1  NZ_AHCB02000005.1  173242   \n",
       "2  NZ_AEYS01000118.1    1850   \n",
       "3  NZ_AEYS01000118.1    1850   \n",
       "4  NZ_AEYS01000283.1     677   \n",
       "\n",
       "                                                 SEQ      Type  \n",
       "0  CGCGATAACAATCATCACCAGTTGAGCACCTATGGTATTGGTAAAG...  bacteria  \n",
       "1  GGGCTCTGGTTCACCACTTAAAAACTGCTTATGCCAACCATTTAAA...  bacteria  \n",
       "2  GCCCTTTTATTTTATCCCCTTTTCTAAAAAGGACGTCATCTTCAAT...  bacteria  \n",
       "3  ATCTATTGCATCTTTAACCGATTTCAACATTTTTTGTTTTTATTAA...  bacteria  \n",
       "4  TCCCTATAGGAACGTGAATTATACCTGCTTTATCCACCCTGTACTC...  bacteria  "
      ]
     },
     "execution_count": 42,
     "metadata": {},
     "output_type": "execute_result"
    }
   ],
   "source": [
    "all_data.head()"
   ]
  },
  {
   "cell_type": "code",
   "execution_count": 35,
   "metadata": {
    "collapsed": false
   },
   "outputs": [
    {
     "data": {
      "text/plain": [
       "(730209, 3)"
      ]
     },
     "execution_count": 35,
     "metadata": {},
     "output_type": "execute_result"
    }
   ],
   "source": [
    "all_data.shape"
   ]
  },
  {
   "cell_type": "code",
   "execution_count": 43,
   "metadata": {
    "collapsed": true
   },
   "outputs": [],
   "source": [
    "from sklearn.cross_validation import train_test_split"
   ]
  },
  {
   "cell_type": "code",
   "execution_count": 50,
   "metadata": {
    "collapsed": false
   },
   "outputs": [],
   "source": [
    "train , test, _,_ = train_test_split(all_data,all_data['ID'],test_size=0.2,random_state=2)\n",
    "train , valid, _,_ = train_test_split(train,train['ID'],test_size=0.15,random_state=2)"
   ]
  },
  {
   "cell_type": "code",
   "execution_count": null,
   "metadata": {
    "collapsed": true
   },
   "outputs": [],
   "source": []
  }
 ],
 "metadata": {
  "kernelspec": {
   "display_name": "Python 3",
   "language": "python",
   "name": "python3"
  },
  "language_info": {
   "codemirror_mode": {
    "name": "ipython",
    "version": 3
   },
   "file_extension": ".py",
   "mimetype": "text/x-python",
   "name": "python",
   "nbconvert_exporter": "python",
   "pygments_lexer": "ipython3",
   "version": "3.6.5"
  }
 },
 "nbformat": 4,
 "nbformat_minor": 2
}
