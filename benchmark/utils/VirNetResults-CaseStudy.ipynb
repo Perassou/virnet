{
 "cells": [
  {
   "cell_type": "markdown",
   "metadata": {},
   "source": [
    "# VirFinder Analysis"
   ]
  },
  {
   "cell_type": "code",
   "execution_count": 3,
   "metadata": {},
   "outputs": [],
   "source": [
    "%matplotlib inline\n",
    "\n",
    "import os\n",
    "import random\n",
    "import pandas as pd\n",
    "import numpy as np\n",
    "import matplotlib.pyplot as plt\n",
    "from itertools import cycle\n",
    "from sklearn.metrics import classification_report,roc_auc_score,accuracy_score,roc_curve, auc"
   ]
  },
  {
   "cell_type": "code",
   "execution_count": 27,
   "metadata": {},
   "outputs": [
    {
     "name": "stdout",
     "output_type": "stream",
     "text": [
      "#Viruses 39447\t#NonViruses 20866 \n",
      "Viruses% 65.40\t Non% 34.60\n",
      "60313\n"
     ]
    }
   ],
   "source": [
    "df =pd.read_csv('../../benchmark/case_study/454.csv')\n",
    "viruses=len(df[df['result']==1])\n",
    "noviruses=len(df[df['result']==0])\n",
    "print('#Viruses {0}\\t#NonViruses {1} \\nViruses% {2:.2f}\\t Non% {3:.2f}'.format(viruses,noviruses,viruses/len(df)*100,noviruses/len(df)*100))\n",
    "df.head()\n",
    "print(len(df))"
   ]
  },
  {
   "cell_type": "code",
   "execution_count": 25,
   "metadata": {},
   "outputs": [
    {
     "name": "stdout",
     "output_type": "stream",
     "text": [
      "#Viruses 579697\t#NonViruses 1055975 \n",
      "Viruses% 35.44\t Non% 64.56\n",
      "1635672\n"
     ]
    }
   ],
   "source": [
    "df =pd.read_csv('../../benchmark/case_study/illumnia1.csv')\n",
    "viruses=len(df[df['result']==1])\n",
    "noviruses=len(df[df['result']==0])\n",
    "print('#Viruses {0}\\t#NonViruses {1} \\nViruses% {2:.2f}\\t Non% {3:.2f}'.format(viruses,noviruses,viruses/len(df)*100,noviruses/len(df)*100))\n",
    "df.head()\n",
    "print(len(df))"
   ]
  },
  {
   "cell_type": "code",
   "execution_count": 26,
   "metadata": {},
   "outputs": [
    {
     "name": "stdout",
     "output_type": "stream",
     "text": [
      "#Viruses 590869\t#NonViruses 1044803 \n",
      "Viruses% 36.12\t Non% 63.88\n",
      "1635672\n"
     ]
    }
   ],
   "source": [
    "df =pd.read_csv('../../benchmark/case_study/illumnia2.csv')\n",
    "viruses=len(df[df['result']==1])\n",
    "noviruses=len(df[df['result']==0])\n",
    "print('#Viruses {0}\\t#NonViruses {1} \\nViruses% {2:.2f}\\t Non% {3:.2f}'.format(viruses,noviruses,viruses/len(df)*100,noviruses/len(df)*100))\n",
    "df.head()\n",
    "print(len(df))"
   ]
  }
 ],
 "metadata": {
  "kernelspec": {
   "display_name": "Python 3",
   "language": "python",
   "name": "python3"
  },
  "language_info": {
   "codemirror_mode": {
    "name": "ipython",
    "version": 3
   },
   "file_extension": ".py",
   "mimetype": "text/x-python",
   "name": "python",
   "nbconvert_exporter": "python",
   "pygments_lexer": "ipython3",
   "version": "3.6.5"
  }
 },
 "nbformat": 4,
 "nbformat_minor": 2
}
